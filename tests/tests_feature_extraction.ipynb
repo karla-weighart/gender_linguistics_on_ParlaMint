{
 "cells": [
  {
   "cell_type": "code",
   "execution_count": 1,
   "metadata": {
    "collapsed": true
   },
   "outputs": [
    {
     "name": "stdout",
     "output_type": "stream",
     "text": [
      "C:\\Users\\karla\\PycharmProjects\\gender_linguistics_on_ParlaMint\n"
     ]
    }
   ],
   "source": [
    "%cd ..\n",
    "# I need this to access modules from the main folder. Do not move this comment up into the same line"
   ]
  },
  {
   "cell_type": "code",
   "execution_count": 4,
   "outputs": [
    {
     "name": "stdout",
     "output_type": "stream",
     "text": [
      "done\n"
     ]
    }
   ],
   "source": [
    "from feature_extraction import find_roundedness\n",
    "assert find_roundedness(00123.0) == (3,1), '1'\n",
    "assert find_roundedness(304000.0) == (3,4), '2'\n",
    "assert find_roundedness(0.54) == (2,0), '3'\n",
    "print('done')"
   ],
   "metadata": {
    "collapsed": false
   }
  },
  {
   "cell_type": "code",
   "execution_count": 2,
   "outputs": [
    {
     "name": "stdout",
     "output_type": "stream",
     "text": [
      "done\n"
     ]
    }
   ],
   "source": [
    "from feature_extraction import parse_num_group\n",
    "\n",
    "def test_parse_num_group():\n",
    "    test_in_and_out_burgers = ((['300', 'million'], 300000000),\n",
    "                               (['500'], 500),\n",
    "                               (['five hundred thousand'], 500000),\n",
    "                               (['five hundred', 'thousand'], 500000),\n",
    "                               (['3.4', 'million'], 3400000)\n",
    "                               )\n",
    "    for input, output in test_in_and_out_burgers:\n",
    "        assert parse_num_group(input) == output, f'{input} yielded {parse_num_group(input)} while it should be {output}'\n",
    "    print('done')\n",
    "\n",
    "test_parse_num_group()"
   ],
   "metadata": {
    "collapsed": false
   }
  },
  {
   "cell_type": "code",
   "execution_count": null,
   "outputs": [],
   "source": [],
   "metadata": {
    "collapsed": false
   }
  }
 ],
 "metadata": {
  "kernelspec": {
   "display_name": "Python 3",
   "language": "python",
   "name": "python3"
  },
  "language_info": {
   "codemirror_mode": {
    "name": "ipython",
    "version": 2
   },
   "file_extension": ".py",
   "mimetype": "text/x-python",
   "name": "python",
   "nbconvert_exporter": "python",
   "pygments_lexer": "ipython2",
   "version": "2.7.6"
  }
 },
 "nbformat": 4,
 "nbformat_minor": 0
}
