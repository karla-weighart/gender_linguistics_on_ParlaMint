{
 "cells": [
  {
   "cell_type": "code",
   "execution_count": 36,
   "metadata": {
    "collapsed": true
   },
   "outputs": [],
   "source": [
    "import os\n",
    "\n",
    "import pandas as pd\n",
    "from io import StringIO\n",
    "from tqdm import tqdm\n",
    "\n",
    "FILE_PATH = \"C:/Users/karla/Desktop/Zula_Data_all_in_one/data.csv\""
   ]
  },
  {
   "cell_type": "markdown",
   "source": [
    "#lines: 114 302 345"
   ],
   "metadata": {
    "collapsed": false,
    "pycharm": {
     "name": "#%% md\n"
    }
   }
  },
  {
   "cell_type": "markdown",
   "source": [
    "# 1. Load lines"
   ],
   "metadata": {
    "collapsed": false,
    "pycharm": {
     "name": "#%% md\n"
    }
   }
  },
  {
   "cell_type": "code",
   "execution_count": 66,
   "outputs": [
    {
     "name": "stderr",
     "output_type": "stream",
     "text": [
      "101it [00:00, 93660.12it/s]\n"
     ]
    }
   ],
   "source": [
    "with open(FILE_PATH, 'rb') as f:\n",
    "    lines = []\n",
    "    for i, line in tqdm(enumerate(f)):\n",
    "        lines.append(line.decode(\"utf8\"))\n",
    "        if i > 100:\n",
    "            break"
   ],
   "metadata": {
    "collapsed": false,
    "pycharm": {
     "name": "#%%\n"
    }
   }
  },
  {
   "cell_type": "code",
   "execution_count": 49,
   "outputs": [
    {
     "name": "stderr",
     "output_type": "stream",
     "text": [
      "20it [00:00, 20106.92it/s]\n"
     ]
    }
   ],
   "source": [
    "# Alternatively, load only last 1000 characters\n",
    "with open(FILE_PATH, 'rb') as f:\n",
    "    f.seek(0, os.SEEK_END)\n",
    "    f.seek(-1000, os.SEEK_CUR)\n",
    "    lines = []\n",
    "    for i, line in tqdm(enumerate(f)):\n",
    "        lines.append(line.decode(\"utf8\"))\n",
    "        if i > 100:\n",
    "            break"
   ],
   "metadata": {
    "collapsed": false,
    "pycharm": {
     "name": "#%%\n"
    }
   }
  },
  {
   "cell_type": "code",
   "execution_count": 67,
   "outputs": [
    {
     "data": {
      "text/plain": "[',sent_id,sentence,utterance_id,House,Speaker_role,Speaker_type,Speaker_party,Party_status,Speaker_name,Speaker_gender\\r\\n',\n '0,2015-01-05-commons.seg1.1,\"   form   upos  head deprel\\n',\n 'id                         \\n',\n '1     1      X     0   root\\n',\n '2     .  PUNCT     1  punct\",2015-01-05-commons.u1,L,Regular,MP,LD,Coalition,\"Willott, Jennifer Nancy\",F\\r\\n',\n '1,2015-01-05-commons.seg1.2,\"            form   upos  head     deprel\\n',\n 'id                                      \\n',\n '1           What    DET     2        det\\n',\n '2       progress   NOUN     6        obj\\n',\n '3            her    DET     4  nmod:poss\\n',\n '4     Department  PROPN     6      nsubj\\n',\n '5            has   VERB     6        aux\\n',\n '6           made   VERB     0       root\\n',\n '7             on    ADP    10       case\\n',\n '8   implementing   VERB    10       amod\\n',\n '9           exit   NOUN    10   compound\\n',\n '10        checks   NOUN     6        obl\\n',\n '11            at    ADP    12       case\\n',\n '12       borders   NOUN     6        obl\\n',\n '13             .  PUNCT     6      punct\",2015-01-05-commons.u1,L,Regular,MP,LD,Coalition,\"Willott, Jennifer Nancy\",F\\r\\n',\n '2,2015-01-05-commons.seg2.1,\"             form   upos  head     deprel\\n',\n 'id                                       \\n',\n '1             The    DET     2        det\\n',\n '2      Government   NOUN     5      nsubj\\n',\n '3             are   VERB     5        cop\\n',\n '4              on    ADP     5       case\\n',\n '5           track   NOUN     0       root\\n',\n '6              to   PART     7       mark\\n',\n '7         deliver   VERB     5        acl\\n',\n '8           their    DET     9  nmod:poss\\n',\n '9      commitment   NOUN     7        obj\\n',\n '10             to   PART    11       mark\\n',\n '11      introduce   VERB     7      xcomp\\n',\n '12           exit   NOUN    13   compound\\n',\n '13         checks   NOUN    11        obj\\n',\n '14             on    ADP    18       case\\n',\n '15      scheduled   VERB    18       amod\\n',\n '16     commercial    ADJ    18       amod\\n',\n '17  international    ADJ    18       amod\\n',\n '18            air   NOUN    23   compound\\n',\n '19              ,  PUNCT    18      punct\\n',\n '20            sea   NOUN    18       conj\\n',\n '21            and  CCONJ    22         cc\\n',\n '22           rail   NOUN    18       conj\\n',\n '23         routes   NOUN    11        obj\\n',\n '24             by    ADP    25       case\\n',\n '25          April  PROPN    23       nmod\\n',\n '26           2015    NUM    25     nummod\\n',\n '27              .  PUNCT     5      punct\",2015-01-05-commons.u2,L,Regular,MP,CON,Coalition,\"May, Theresa Mary\",F\\r\\n',\n '3,2015-01-05-commons.seg3.1,\"           form   upos  head     deprel\\n',\n 'id                                     \\n',\n '1            It   PRON     3      nsubj\\n',\n '2            is   VERB     3        cop\\n',\n '3         clear    ADJ     0       root\\n',\n '4          that    ADP    20       mark\\n',\n '5          exit   NOUN     6   compound\\n',\n '6        checks   NOUN    20      nsubj\\n',\n '7             ,  PUNCT     6      punct\\n',\n '8         which    DET    10        obj\\n',\n '9          were   VERB    10   aux:pass\\n',\n '10     scrapped   VERB     6  acl:relcl\\n',\n '11           by    ADP    15       case\\n',\n '12          the    DET    15        det\\n',\n '13     previous    ADJ    15       amod\\n',\n '14       Labour   NOUN    15   compound\\n',\n '15   Government   NOUN    10        obl\\n',\n '16            ,  PUNCT     6      punct\\n',\n '17          are   VERB    20        cop\\n',\n '18            a    DET    20        det\\n',\n '19     critical    ADJ    20       amod\\n',\n '20         part   NOUN     3      ccomp\\n',\n '21           of    ADP    25       case\\n',\n '22          any    DET    25        det\\n',\n '23    competent    ADJ    25       amod\\n',\n '24  immigration   NOUN    25   compound\\n',\n '25       system   NOUN    20       nmod\\n',\n '26            .  PUNCT     3      punct\",2015-01-05-commons.u3,L,Regular,MP,LD,Coalition,\"Willott, Jennifer Nancy\",F\\r\\n',\n '4,2015-01-05-commons.seg3.2,\"         form   upos  head      deprel\\n',\n 'id                                    \\n',\n '1           I   PRON     2       nsubj\\n',\n '2        know   VERB     0        root\\n',\n '3        that    ADP     7        mark\\n',\n '4    progress   NOUN     7  nsubj:pass\\n',\n '5         has   VERB     7         aux\\n',\n '6        been   VERB     7    aux:pass\\n',\n '7        made   VERB     2       ccomp\\n',\n '8           ,  PUNCT     7       punct\\n',\n '9         but  CCONJ    12          cc\\n',\n '10        how    ADV    11      advmod\\n',\n '11       sure    ADJ    12         dep\\n',\n '12         is   VERB     7        conj\\n',\n '13        the    DET    15         det\\n',\n '14       Home  PROPN    15    compound\\n',\n '15  Secretary  PROPN    12       nsubj\\n',\n '16       that    ADP    19        mark\\n',\n '17        she   PRON    19       nsubj\\n',\n '18       will   VERB    19         aux\\n',\n '19        hit   VERB    12         dep\\n',\n '20        the    DET    21         det\\n',\n '21     target   NOUN    19         obj\\n',\n '22         of    ADP    26        case\\n',\n '23        100    NUM    24      nummod\\n']"
     },
     "execution_count": 67,
     "metadata": {},
     "output_type": "execute_result"
    }
   ],
   "source": [
    "lines"
   ],
   "metadata": {
    "collapsed": false,
    "pycharm": {
     "name": "#%%\n"
    }
   }
  },
  {
   "cell_type": "code",
   "execution_count": 68,
   "outputs": [
    {
     "name": "stdout",
     "output_type": "stream",
     "text": [
      ",sent_id,sentence,utterance_id,House,Speaker_role,Speaker_type,Speaker_party,Party_status,Speaker_name,Speaker_gender\r\n",
      "0,2015-01-05-commons.seg1.1,\"   form   upos  head deprel\n",
      "id                         \n",
      "1     1      X     0   root\n",
      "2     .  PUNCT     1  punct\",2015-01-05-commons.u1,L,Regular,MP,LD,Coalition,\"Willott, Jennifer Nancy\",F\r\n",
      "1,2015-01-05-commons.seg1.2,\"            form   upos  head     deprel\n",
      "id                                      \n",
      "1           What    DET     2        det\n",
      "2       progress   NOUN     6        obj\n",
      "3            her    DET     4  nmod:poss\n",
      "4     Department  PROPN     6      nsubj\n",
      "5            has   VERB     6        aux\n",
      "6           made   VERB     0       root\n",
      "7             on    ADP    10       case\n",
      "8   implementing   VERB    10       amod\n",
      "9           exit   NOUN    10   compound\n",
      "10        checks   NOUN     6        obl\n",
      "11            at    ADP    12       case\n",
      "12       borders   NOUN     6        obl\n",
      "13             .  PUNCT     6      punct\",2015-01-05-commons.u1,L,Regular,MP,LD,Coalition,\"Willott, Jennifer Nancy\",F\r\n",
      "2,2015-01-05-commons.seg2.1,\"             form   upos  head     deprel\n",
      "id                                       \n",
      "1             The    DET     2        det\n",
      "2      Government   NOUN     5      nsubj\n",
      "3             are   VERB     5        cop\n",
      "4              on    ADP     5       case\n",
      "5           track   NOUN     0       root\n",
      "6              to   PART     7       mark\n",
      "7         deliver   VERB     5        acl\n",
      "8           their    DET     9  nmod:poss\n",
      "9      commitment   NOUN     7        obj\n",
      "10             to   PART    11       mark\n",
      "11      introduce   VERB     7      xcomp\n",
      "12           exit   NOUN    13   compound\n",
      "13         checks   NOUN    11        obj\n",
      "14             on    ADP    18       case\n",
      "15      scheduled   VERB    18       amod\n",
      "16     commercial    ADJ    18       amod\n",
      "17  international    ADJ    18       amod\n",
      "18            air   NOUN    23   compound\n",
      "19              ,  PUNCT    18      punct\n",
      "20            sea   NOUN    18       conj\n",
      "21            and  CCONJ    22         cc\n",
      "22           rail   NOUN    18       conj\n",
      "23         routes   NOUN    11        obj\n",
      "24             by    ADP    25       case\n",
      "25          April  PROPN    23       nmod\n",
      "26           2015    NUM    25     nummod\n",
      "27              .  PUNCT     5      punct\",2015-01-05-commons.u2,L,Regular,MP,CON,Coalition,\"May, Theresa Mary\",F\r\n",
      "3,2015-01-05-commons.seg3.1,\"           form   upos  head     deprel\n",
      "id                                     \n",
      "1            It   PRON     3      nsubj\n",
      "2            is   VERB     3        cop\n",
      "3         clear    ADJ     0       root\n",
      "4          that    ADP    20       mark\n",
      "5          exit   NOUN     6   compound\n",
      "6        checks   NOUN    20      nsubj\n",
      "7             ,  PUNCT     6      punct\n",
      "8         which    DET    10        obj\n",
      "9          were   VERB    10   aux:pass\n",
      "10     scrapped   VERB     6  acl:relcl\n",
      "11           by    ADP    15       case\n",
      "12          the    DET    15        det\n",
      "13     previous    ADJ    15       amod\n",
      "14       Labour   NOUN    15   compound\n",
      "15   Government   NOUN    10        obl\n",
      "16            ,  PUNCT     6      punct\n",
      "17          are   VERB    20        cop\n",
      "18            a    DET    20        det\n",
      "19     critical    ADJ    20       amod\n",
      "20         part   NOUN     3      ccomp\n",
      "21           of    ADP    25       case\n",
      "22          any    DET    25        det\n",
      "23    competent    ADJ    25       amod\n",
      "24  immigration   NOUN    25   compound\n",
      "25       system   NOUN    20       nmod\n",
      "26            .  PUNCT     3      punct\",2015-01-05-commons.u3,L,Regular,MP,LD,Coalition,\"Willott, Jennifer Nancy\",F\r\n",
      "\n"
     ]
    }
   ],
   "source": [
    "table_txt = \"\".join(lines[:-25])\n",
    "print(table_txt)"
   ],
   "metadata": {
    "collapsed": false,
    "pycharm": {
     "name": "#%%\n"
    }
   }
  },
  {
   "cell_type": "code",
   "execution_count": 69,
   "outputs": [],
   "source": [
    "outer_table = pd.read_csv(StringIO(table_txt))"
   ],
   "metadata": {
    "collapsed": false,
    "pycharm": {
     "name": "#%%\n"
    }
   }
  },
  {
   "cell_type": "code",
   "execution_count": 70,
   "outputs": [
    {
     "data": {
      "text/plain": "   Unnamed: 0                    sent_id  \\\n0           0  2015-01-05-commons.seg1.1   \n1           1  2015-01-05-commons.seg1.2   \n2           2  2015-01-05-commons.seg2.1   \n3           3  2015-01-05-commons.seg3.1   \n\n                                            sentence           utterance_id  \\\n0     form   upos  head deprel\\nid               ...  2015-01-05-commons.u1   \n1              form   upos  head     deprel\\nid  ...  2015-01-05-commons.u1   \n2               form   upos  head     deprel\\nid ...  2015-01-05-commons.u2   \n3             form   upos  head     deprel\\nid   ...  2015-01-05-commons.u3   \n\n  House Speaker_role Speaker_type Speaker_party Party_status  \\\n0     L      Regular           MP            LD    Coalition   \n1     L      Regular           MP            LD    Coalition   \n2     L      Regular           MP           CON    Coalition   \n3     L      Regular           MP            LD    Coalition   \n\n              Speaker_name Speaker_gender  \n0  Willott, Jennifer Nancy              F  \n1  Willott, Jennifer Nancy              F  \n2        May, Theresa Mary              F  \n3  Willott, Jennifer Nancy              F  ",
      "text/html": "<div>\n<style scoped>\n    .dataframe tbody tr th:only-of-type {\n        vertical-align: middle;\n    }\n\n    .dataframe tbody tr th {\n        vertical-align: top;\n    }\n\n    .dataframe thead th {\n        text-align: right;\n    }\n</style>\n<table border=\"1\" class=\"dataframe\">\n  <thead>\n    <tr style=\"text-align: right;\">\n      <th></th>\n      <th>Unnamed: 0</th>\n      <th>sent_id</th>\n      <th>sentence</th>\n      <th>utterance_id</th>\n      <th>House</th>\n      <th>Speaker_role</th>\n      <th>Speaker_type</th>\n      <th>Speaker_party</th>\n      <th>Party_status</th>\n      <th>Speaker_name</th>\n      <th>Speaker_gender</th>\n    </tr>\n  </thead>\n  <tbody>\n    <tr>\n      <th>0</th>\n      <td>0</td>\n      <td>2015-01-05-commons.seg1.1</td>\n      <td>form   upos  head deprel\\nid               ...</td>\n      <td>2015-01-05-commons.u1</td>\n      <td>L</td>\n      <td>Regular</td>\n      <td>MP</td>\n      <td>LD</td>\n      <td>Coalition</td>\n      <td>Willott, Jennifer Nancy</td>\n      <td>F</td>\n    </tr>\n    <tr>\n      <th>1</th>\n      <td>1</td>\n      <td>2015-01-05-commons.seg1.2</td>\n      <td>form   upos  head     deprel\\nid  ...</td>\n      <td>2015-01-05-commons.u1</td>\n      <td>L</td>\n      <td>Regular</td>\n      <td>MP</td>\n      <td>LD</td>\n      <td>Coalition</td>\n      <td>Willott, Jennifer Nancy</td>\n      <td>F</td>\n    </tr>\n    <tr>\n      <th>2</th>\n      <td>2</td>\n      <td>2015-01-05-commons.seg2.1</td>\n      <td>form   upos  head     deprel\\nid ...</td>\n      <td>2015-01-05-commons.u2</td>\n      <td>L</td>\n      <td>Regular</td>\n      <td>MP</td>\n      <td>CON</td>\n      <td>Coalition</td>\n      <td>May, Theresa Mary</td>\n      <td>F</td>\n    </tr>\n    <tr>\n      <th>3</th>\n      <td>3</td>\n      <td>2015-01-05-commons.seg3.1</td>\n      <td>form   upos  head     deprel\\nid   ...</td>\n      <td>2015-01-05-commons.u3</td>\n      <td>L</td>\n      <td>Regular</td>\n      <td>MP</td>\n      <td>LD</td>\n      <td>Coalition</td>\n      <td>Willott, Jennifer Nancy</td>\n      <td>F</td>\n    </tr>\n  </tbody>\n</table>\n</div>"
     },
     "execution_count": 70,
     "metadata": {},
     "output_type": "execute_result"
    }
   ],
   "source": [
    "outer_table"
   ],
   "metadata": {
    "collapsed": false,
    "pycharm": {
     "name": "#%%\n"
    }
   }
  },
  {
   "cell_type": "code",
   "execution_count": 81,
   "outputs": [],
   "source": [
    "sentence_table_txt = outer_table.iloc[2]['sentence']"
   ],
   "metadata": {
    "collapsed": false,
    "pycharm": {
     "name": "#%%\n"
    }
   }
  },
  {
   "cell_type": "code",
   "execution_count": 86,
   "outputs": [
    {
     "data": {
      "text/plain": "   id             form   upos  head     deprel\n0    1             The    DET     2        det\n1    2      Government   NOUN     5      nsubj\n2    3             are   VERB     5        cop\n3    4              on    ADP     5       case\n4    5           track   NOUN     0       root\n5    6              to   PART     7       mark\n6    7         deliver   VERB     5        acl\n7    8           their    DET     9  nmod:poss\n8    9      commitment   NOUN     7        obj\n9    10             to   PART    11       mark\n10   11      introduce   VERB     7      xcomp\n11   12           exit   NOUN    13   compound\n12   13         checks   NOUN    11        obj\n13   14             on    ADP    18       case\n14   15      scheduled   VERB    18       amod\n15   16     commercial    ADJ    18       amod\n16   17  international    ADJ    18       amod\n17   18            air   NOUN    23   compound\n18   19              ,  PUNCT    18      punct\n19   20            sea   NOUN    18       conj\n20   21            and  CCONJ    22         cc\n21   22           rail   NOUN    18       conj\n22   23         routes   NOUN    11        obj\n23   24             by    ADP    25       case\n24   25          April  PROPN    23       nmod\n25   26           2015    NUM    25     nummod\n26   27              .  PUNCT     5      punct",
      "text/html": "<div>\n<style scoped>\n    .dataframe tbody tr th:only-of-type {\n        vertical-align: middle;\n    }\n\n    .dataframe tbody tr th {\n        vertical-align: top;\n    }\n\n    .dataframe thead th {\n        text-align: right;\n    }\n</style>\n<table border=\"1\" class=\"dataframe\">\n  <thead>\n    <tr style=\"text-align: right;\">\n      <th></th>\n      <th>id             form   upos  head     deprel</th>\n    </tr>\n  </thead>\n  <tbody>\n    <tr>\n      <th>0</th>\n      <td>1             The    DET     2        det</td>\n    </tr>\n    <tr>\n      <th>1</th>\n      <td>2      Government   NOUN     5      nsubj</td>\n    </tr>\n    <tr>\n      <th>2</th>\n      <td>3             are   VERB     5        cop</td>\n    </tr>\n    <tr>\n      <th>3</th>\n      <td>4              on    ADP     5       case</td>\n    </tr>\n    <tr>\n      <th>4</th>\n      <td>5           track   NOUN     0       root</td>\n    </tr>\n    <tr>\n      <th>5</th>\n      <td>6              to   PART     7       mark</td>\n    </tr>\n    <tr>\n      <th>6</th>\n      <td>7         deliver   VERB     5        acl</td>\n    </tr>\n    <tr>\n      <th>7</th>\n      <td>8           their    DET     9  nmod:poss</td>\n    </tr>\n    <tr>\n      <th>8</th>\n      <td>9      commitment   NOUN     7        obj</td>\n    </tr>\n    <tr>\n      <th>9</th>\n      <td>10             to   PART    11       mark</td>\n    </tr>\n    <tr>\n      <th>10</th>\n      <td>11      introduce   VERB     7      xcomp</td>\n    </tr>\n    <tr>\n      <th>11</th>\n      <td>12           exit   NOUN    13   compound</td>\n    </tr>\n    <tr>\n      <th>12</th>\n      <td>13         checks   NOUN    11        obj</td>\n    </tr>\n    <tr>\n      <th>13</th>\n      <td>14             on    ADP    18       case</td>\n    </tr>\n    <tr>\n      <th>14</th>\n      <td>15      scheduled   VERB    18       amod</td>\n    </tr>\n    <tr>\n      <th>15</th>\n      <td>16     commercial    ADJ    18       amod</td>\n    </tr>\n    <tr>\n      <th>16</th>\n      <td>17  international    ADJ    18       amod</td>\n    </tr>\n    <tr>\n      <th>17</th>\n      <td>18            air   NOUN    23   compound</td>\n    </tr>\n    <tr>\n      <th>18</th>\n      <td>19              ,  PUNCT    18      punct</td>\n    </tr>\n    <tr>\n      <th>19</th>\n      <td>20            sea   NOUN    18       conj</td>\n    </tr>\n    <tr>\n      <th>20</th>\n      <td>21            and  CCONJ    22         cc</td>\n    </tr>\n    <tr>\n      <th>21</th>\n      <td>22           rail   NOUN    18       conj</td>\n    </tr>\n    <tr>\n      <th>22</th>\n      <td>23         routes   NOUN    11        obj</td>\n    </tr>\n    <tr>\n      <th>23</th>\n      <td>24             by    ADP    25       case</td>\n    </tr>\n    <tr>\n      <th>24</th>\n      <td>25          April  PROPN    23       nmod</td>\n    </tr>\n    <tr>\n      <th>25</th>\n      <td>26           2015    NUM    25     nummod</td>\n    </tr>\n    <tr>\n      <th>26</th>\n      <td>27              .  PUNCT     5      punct</td>\n    </tr>\n  </tbody>\n</table>\n</div>"
     },
     "execution_count": 86,
     "metadata": {},
     "output_type": "execute_result"
    }
   ],
   "source": [
    "# Weirdly enough The\n",
    "pd.read_csv(StringIO(\"id\" + sentence_table_txt), sep='\\t', skiprows=[1])  # ,header = SENTENCE_COLUMNS"
   ],
   "metadata": {
    "collapsed": false,
    "pycharm": {
     "name": "#%%\n"
    }
   }
  },
  {
   "cell_type": "code",
   "execution_count": null,
   "outputs": [],
   "source": [],
   "metadata": {
    "collapsed": false,
    "pycharm": {
     "name": "#%%\n"
    }
   }
  }
 ],
 "metadata": {
  "kernelspec": {
   "display_name": "Python 3",
   "language": "python",
   "name": "python3"
  },
  "language_info": {
   "codemirror_mode": {
    "name": "ipython",
    "version": 2
   },
   "file_extension": ".py",
   "mimetype": "text/x-python",
   "name": "python",
   "nbconvert_exporter": "python",
   "pygments_lexer": "ipython2",
   "version": "2.7.6"
  }
 },
 "nbformat": 4,
 "nbformat_minor": 0
}