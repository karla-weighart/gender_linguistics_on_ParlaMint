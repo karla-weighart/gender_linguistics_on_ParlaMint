{
 "cells": [
  {
   "cell_type": "markdown",
   "metadata": {
    "collapsed": true,
    "pycharm": {
     "name": "#%% md\n"
    }
   },
   "source": [
    "# Why are there `'_'` in some lines?"
   ]
  },
  {
   "cell_type": "code",
   "execution_count": 1,
   "outputs": [],
   "source": [
    "import pandas as pd\n",
    "from pathlib import Path"
   ],
   "metadata": {
    "collapsed": false,
    "pycharm": {
     "name": "#%%\n"
    }
   }
  },
  {
   "cell_type": "code",
   "execution_count": 2,
   "outputs": [],
   "source": [
    "complete_data = pd.read_csv(Path(\"C:/Users/karla/Desktop/Zula_Data_all_in_one/data_complete_but_weird_index_stuff.csv\"))"
   ],
   "metadata": {
    "collapsed": false,
    "pycharm": {
     "name": "#%%\n"
    }
   }
  },
  {
   "cell_type": "code",
   "execution_count": 5,
   "outputs": [],
   "source": [
    "hyphen_data = complete_data[(complete_data['Speaker_type'] == '-') | (complete_data['Speaker_party'] == '-') | (complete_data['Party_status'] == '-') | (complete_data['Speaker_name'] == '-') | (complete_data['Speaker_gender'] == '-')]"
   ],
   "metadata": {
    "collapsed": false,
    "pycharm": {
     "name": "#%%\n"
    }
   }
  },
  {
   "cell_type": "code",
   "execution_count": 7,
   "outputs": [
    {
     "name": "stdout",
     "output_type": "stream",
     "text": [
      "Speaker_type: {'-'}\n",
      "Speaker_party: {'-'}\n",
      "Party_status: {'-'}\n",
      "Speaker_name: {'-'}\n",
      "Speaker_gender: {'-'}\n"
     ]
    }
   ],
   "source": [
    "for column in ['Speaker_type', 'Speaker_party', 'Party_status', 'Speaker_name', 'Speaker_gender']:\n",
    "    print(f'{column}: {set(hyphen_data[column])}')"
   ],
   "metadata": {
    "collapsed": false,
    "pycharm": {
     "name": "#%%\n"
    }
   }
  },
  {
   "cell_type": "markdown",
   "source": [
    "Conclusion: Whenever there is '-' in any of the inspected columns, it also appears in the other columns => get rid of these entries"
   ],
   "metadata": {
    "collapsed": false,
    "pycharm": {
     "name": "#%% md\n"
    }
   }
  },
  {
   "cell_type": "code",
   "execution_count": 16,
   "outputs": [],
   "source": [
    "hyphen_data.to_csv(Path(\"C:/Users/karla/Desktop/Zula_Data_all_in_one/hyphen_data.csv\"))"
   ],
   "metadata": {
    "collapsed": false,
    "pycharm": {
     "name": "#%%\n"
    }
   }
  }
 ],
 "metadata": {
  "kernelspec": {
   "display_name": "Python 3",
   "language": "python",
   "name": "python3"
  },
  "language_info": {
   "codemirror_mode": {
    "name": "ipython",
    "version": 2
   },
   "file_extension": ".py",
   "mimetype": "text/x-python",
   "name": "python",
   "nbconvert_exporter": "python",
   "pygments_lexer": "ipython2",
   "version": "2.7.6"
  }
 },
 "nbformat": 4,
 "nbformat_minor": 0
}