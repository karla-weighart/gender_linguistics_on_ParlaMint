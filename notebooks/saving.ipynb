{
 "cells": [
  {
   "cell_type": "code",
   "execution_count": 1,
   "metadata": {
    "collapsed": true
   },
   "outputs": [
    {
     "name": "stdout",
     "output_type": "stream",
     "text": [
      "C:\\Users\\karla\\PycharmProjects\\gender_linguistics_on_ParlaMint\n"
     ]
    }
   ],
   "source": [
    "%cd ..\n",
    "# I need this to access modules from the main folder. Do not move this comment up into the same line\n",
    "\n",
    "from generate_dataframe import generate_sentences_and_meta_df_from_multiple_files\n",
    "from load_saved_dataframe import load_saved_df\n",
    "\n",
    "from feature_extraction import group_nums, parse_num_groups"
   ]
  },
  {
   "cell_type": "code",
   "execution_count": null,
   "outputs": [
    {
     "data": {
      "text/plain": "  0%|          | 0/1795 [00:00<?, ?it/s]",
      "application/vnd.jupyter.widget-view+json": {
       "version_major": 2,
       "version_minor": 0,
       "model_id": "ef099d6296f04802972e8827896138f1"
      }
     },
     "metadata": {},
     "output_type": "display_data"
    }
   ],
   "source": [
    "df = generate_sentences_and_meta_df_from_multiple_files()"
   ],
   "metadata": {
    "collapsed": false,
    "pycharm": {
     "is_executing": true
    }
   }
  },
  {
   "cell_type": "code",
   "execution_count": null,
   "outputs": [],
   "source": [
    "df.to_csv(\"C:/Users/karla/Desktop/Zula_Data_all_in_one/data_complete_2023_01_12.csv\") # TODO .csv\")"
   ],
   "metadata": {
    "collapsed": false,
    "pycharm": {
     "is_executing": true
    }
   }
  },
  {
   "cell_type": "code",
   "execution_count": null,
   "outputs": [],
   "source": [
    "df['sentence_grouped_nums'] = df['sentence'].map(group_nums)"
   ],
   "metadata": {
    "collapsed": false,
    "pycharm": {
     "is_executing": true
    }
   }
  },
  {
   "cell_type": "code",
   "execution_count": null,
   "outputs": [],
   "source": [
    "df.to_csv(\"C:/Users/karla/Desktop/Zula_Data_all_in_one/data_complete_2023_01_12+group.csv\")"
   ],
   "metadata": {
    "collapsed": false,
    "pycharm": {
     "is_executing": true
    }
   }
  },
  {
   "cell_type": "code",
   "execution_count": null,
   "outputs": [],
   "source": [
    "df['sentence_parsed_num_groups'] = df['sentence_grouped_nums'].map(parse_num_groups)"
   ],
   "metadata": {
    "collapsed": false,
    "pycharm": {
     "is_executing": true
    }
   }
  }
 ],
 "metadata": {
  "kernelspec": {
   "name": "conda-env-Linguistics-py",
   "language": "python",
   "display_name": "Python [conda env:Linguistics] *"
  },
  "language_info": {
   "codemirror_mode": {
    "name": "ipython",
    "version": 2
   },
   "file_extension": ".py",
   "mimetype": "text/x-python",
   "name": "python",
   "nbconvert_exporter": "python",
   "pygments_lexer": "ipython2",
   "version": "2.7.6"
  }
 },
 "nbformat": 4,
 "nbformat_minor": 0
}
